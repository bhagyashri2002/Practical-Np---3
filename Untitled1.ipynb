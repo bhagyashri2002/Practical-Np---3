{
  "nbformat": 4,
  "nbformat_minor": 0,
  "metadata": {
    "colab": {
      "name": "Untitled1.ipynb",
      "provenance": []
    },
    "kernelspec": {
      "name": "python3",
      "display_name": "Python 3"
    },
    "language_info": {
      "name": "python"
    }
  },
  "cells": [
    {
      "cell_type": "code",
      "execution_count": 1,
      "metadata": {
        "colab": {
          "base_uri": "https://localhost:8080/"
        },
        "id": "6zvPHN9r3ZDO",
        "outputId": "f628fbfd-d0c0-436e-adcd-c22631ce3cc2"
      },
      "outputs": [
        {
          "output_type": "stream",
          "name": "stdout",
          "text": [
            "8\n",
            "2\n",
            "15\n",
            "4.0\n"
          ]
        }
      ],
      "source": [
        "x = 5\n",
        "y = 3\n",
        "\n",
        "print(x + y)\n",
        "#Addition\n",
        "\n",
        "x = 5\n",
        "y = 3\n",
        "\n",
        "print(x - y)\n",
        "#Substraction\n",
        "\n",
        "x = 5\n",
        "y = 3\n",
        "\n",
        "print(x * y)\n",
        "#Multiplication\n",
        "\n",
        "x = 12\n",
        "y = 3\n",
        "\n",
        "print(x / y)\n",
        "#Division\n",
        "\n",
        "x = 5\n",
        "y = 2"
      ]
    }
  ]
}